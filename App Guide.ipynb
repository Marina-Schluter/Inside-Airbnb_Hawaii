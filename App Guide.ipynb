{
 "cells": [
  {
   "cell_type": "markdown",
   "metadata": {},
   "source": [
    "### Start using the App\n",
    "\n",
    "You will need to access [Airbnb Hawaii](https://inside-airbnbhawaii-eep8qhzwb7rvkx6zdhl5kr.streamlit.app/)."
   ]
  },
  {
   "cell_type": "markdown",
   "metadata": {},
   "source": [
    "### App Content\n",
    "\n",
    "It is a multi-page application where you can browse through different information on each page. \n",
    "\n",
    "- Pages and Content:    \n",
    "\n",
    "    - Homepage: General navigation about the accommodation offer in Hawaii. It has several filters that allow you to choose the location, type and price of accommodation. The upper part consists of a table with written information about the accommodations and the lower part consists of several tables showing, in graphs, the distribution of the accommodations based on the filters applied.\n",
    "    - Search by Map: Consists of the same filters as Homepage. The data table is maintained and, in the lower part, the distribution of the selected filters can be seen in a map.\n",
    "    - Accommodation: Contains a study of the distribution and types of accommodation offered. The findings are shown at the top, followed by the graphs that led to them. \n",
    "    - Price: Contains a study of the price of the accommodation offered. Findings are indicated at the top, followed by the graphs that led to them.\n",
    "    - Review Ratings: Displays a Power BI dashboard containing a study about the ratings of the accommodations offered. Includes graphs and summary of finding\n",
    "    - Useful Information: contains general information about Hawaii, such as seasons, average temperature, places to visit and useful links. \n",
    "    - Data Analysis Process: contains a summary of some of the steps taken in data pre-processing and analysis.\n",
    "\n",
    "- Interaction with app\n",
    "\n",
    "    - The top left menu allows you to navigate between pages.\n",
    "    - Some pages contain additional filters in the sidebar. It is possible to choose several or all of them. The content of the graphics on the page being viewed will change based on the filters selected. \n",
    "    - The Power BI dashboard on the \"Review Ratings\" page is also interactive. It is possible to apply filters from the charts themselves, just by selecting the desired column in a chart. The rest of the charts will change to show the information corresponding to the selected item. To deselect, simply select the same item again. "
   ]
  },
  {
   "cell_type": "markdown",
   "metadata": {},
   "source": [
    "### Replicate the application\n",
    "\n",
    "\n",
    "It's easy! Just copy this repository and use your [Streamlit Share](https://share.streamlit.io/) account."
   ]
  },
  {
   "cell_type": "markdown",
   "metadata": {},
   "source": [
    "### Modify application elements\n",
    "\n",
    "- Streamlit Local Host\n",
    "\n",
    "    1. Open the repository in Visual Studio Code.\n",
    "    2. Open the Terminal by pressing Ctrl+J or from the top right menu.\n",
    "    3. Type in the Terminal \"Streamlit run app.py\". If necessary, replace \"app.py\" with the relative path of the application's main .py file.\n",
    "    4. Once the app is visualised in Streamlit Local, you can start applying changes and improvements. Always from the application's .py files.\n",
    "    5. Whenever you save a change in Visual Studio Code, you will have to refresh Streamlit to be able to see the applied changes. \n",
    "\n",
    "\n",
    "- Share Streamlit\n",
    "\n",
    "    1. Make a copy of the repository on your GitHub.\n",
    "    2. Open the repository in Visual Studio Code.\n",
    "    3. Log in to your [Share Streamlit](https://share.streamlit.io/) account.\n",
    "    4. Select [\"New app\"](https://share.streamlit.io/deploy).\n",
    "    5. Choose the repository containing the application.\n",
    "    6. Click the \"Deploy!\" button.\n",
    "    7. Make sure that the versions in the requirements.txt file match the ones you have in your version of Visual Studio Code. If not, update them to avoid errors. \n",
    "    8. Once the app is visualised in Share Streamlit, you can start applying changes and improvements. Always from the application's .py files.\n",
    "    9. Whenever you save a change in Visual Studio Code, you will have to refresh Streamlit to be able to see the applied changes. \n",
    "\n",
    "\n",
    "\n",
    "\n",
    "\n",
    "    \n",
    "\n",
    "\n"
   ]
  }
 ],
 "metadata": {
  "language_info": {
   "name": "python"
  }
 },
 "nbformat": 4,
 "nbformat_minor": 2
}
