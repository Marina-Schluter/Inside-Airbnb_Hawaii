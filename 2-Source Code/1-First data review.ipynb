{
 "cells": [
  {
   "cell_type": "code",
   "execution_count": 1,
   "metadata": {},
   "outputs": [],
   "source": [
    "import pandas as pd\n",
    "import numpy as np\n",
    "import plotly.express as px\n",
    "from scipy.stats import shapiro \n",
    "import matplotlib.pyplot as plt\n",
    "import seaborn as sns"
   ]
  },
  {
   "cell_type": "markdown",
   "metadata": {},
   "source": [
    "## 1. Revisando data del csv \"Calendar\""
   ]
  },
  {
   "cell_type": "code",
   "execution_count": 2,
   "metadata": {},
   "outputs": [
    {
     "name": "stderr",
     "output_type": "stream",
     "text": [
      "C:\\Users\\mayin\\AppData\\Local\\Temp\\ipykernel_26856\\49712091.py:1: DtypeWarning: Columns (4) have mixed types. Specify dtype option on import or set low_memory=False.\n",
      "  calendar=pd.read_csv(r\"C:\\Users\\mayin\\Desktop\\Proyectos\\Proyecto modulo 2\\Data\\calendar.csv\")\n"
     ]
    },
    {
     "data": {
      "text/html": [
       "<div>\n",
       "<style scoped>\n",
       "    .dataframe tbody tr th:only-of-type {\n",
       "        vertical-align: middle;\n",
       "    }\n",
       "\n",
       "    .dataframe tbody tr th {\n",
       "        vertical-align: top;\n",
       "    }\n",
       "\n",
       "    .dataframe thead th {\n",
       "        text-align: right;\n",
       "    }\n",
       "</style>\n",
       "<table border=\"1\" class=\"dataframe\">\n",
       "  <thead>\n",
       "    <tr style=\"text-align: right;\">\n",
       "      <th></th>\n",
       "      <th>listing_id</th>\n",
       "      <th>date</th>\n",
       "      <th>available</th>\n",
       "      <th>price</th>\n",
       "      <th>adjusted_price</th>\n",
       "      <th>minimum_nights</th>\n",
       "      <th>maximum_nights</th>\n",
       "    </tr>\n",
       "  </thead>\n",
       "  <tbody>\n",
       "    <tr>\n",
       "      <th>0</th>\n",
       "      <td>5269</td>\n",
       "      <td>2024-03-22</td>\n",
       "      <td>t</td>\n",
       "      <td>$185.00</td>\n",
       "      <td>NaN</td>\n",
       "      <td>4.0</td>\n",
       "      <td>1125.0</td>\n",
       "    </tr>\n",
       "    <tr>\n",
       "      <th>1</th>\n",
       "      <td>5269</td>\n",
       "      <td>2024-03-23</td>\n",
       "      <td>t</td>\n",
       "      <td>$185.00</td>\n",
       "      <td>NaN</td>\n",
       "      <td>4.0</td>\n",
       "      <td>1125.0</td>\n",
       "    </tr>\n",
       "    <tr>\n",
       "      <th>2</th>\n",
       "      <td>5269</td>\n",
       "      <td>2024-03-24</td>\n",
       "      <td>t</td>\n",
       "      <td>$185.00</td>\n",
       "      <td>NaN</td>\n",
       "      <td>4.0</td>\n",
       "      <td>1125.0</td>\n",
       "    </tr>\n",
       "    <tr>\n",
       "      <th>3</th>\n",
       "      <td>5269</td>\n",
       "      <td>2024-03-25</td>\n",
       "      <td>f</td>\n",
       "      <td>$185.00</td>\n",
       "      <td>NaN</td>\n",
       "      <td>5.0</td>\n",
       "      <td>1125.0</td>\n",
       "    </tr>\n",
       "    <tr>\n",
       "      <th>4</th>\n",
       "      <td>5269</td>\n",
       "      <td>2024-03-26</td>\n",
       "      <td>f</td>\n",
       "      <td>$185.00</td>\n",
       "      <td>NaN</td>\n",
       "      <td>5.0</td>\n",
       "      <td>1125.0</td>\n",
       "    </tr>\n",
       "  </tbody>\n",
       "</table>\n",
       "</div>"
      ],
      "text/plain": [
       "   listing_id        date available    price adjusted_price  minimum_nights  \\\n",
       "0        5269  2024-03-22         t  $185.00            NaN             4.0   \n",
       "1        5269  2024-03-23         t  $185.00            NaN             4.0   \n",
       "2        5269  2024-03-24         t  $185.00            NaN             4.0   \n",
       "3        5269  2024-03-25         f  $185.00            NaN             5.0   \n",
       "4        5269  2024-03-26         f  $185.00            NaN             5.0   \n",
       "\n",
       "   maximum_nights  \n",
       "0          1125.0  \n",
       "1          1125.0  \n",
       "2          1125.0  \n",
       "3          1125.0  \n",
       "4          1125.0  "
      ]
     },
     "execution_count": 2,
     "metadata": {},
     "output_type": "execute_result"
    }
   ],
   "source": [
    "calendar=pd.read_csv(r\"C:\\Users\\mayin\\Desktop\\Proyectos\\Proyecto modulo 2\\Data\\calendar.csv\")\n",
    "calendar.head()"
   ]
  },
  {
   "cell_type": "code",
   "execution_count": 3,
   "metadata": {},
   "outputs": [
    {
     "name": "stdout",
     "output_type": "stream",
     "text": [
      "<class 'pandas.core.frame.DataFrame'>\n",
      "RangeIndex: 12426106 entries, 0 to 12426105\n",
      "Data columns (total 7 columns):\n",
      " #   Column          Dtype  \n",
      "---  ------          -----  \n",
      " 0   listing_id      int64  \n",
      " 1   date            object \n",
      " 2   available       object \n",
      " 3   price           object \n",
      " 4   adjusted_price  object \n",
      " 5   minimum_nights  float64\n",
      " 6   maximum_nights  float64\n",
      "dtypes: float64(2), int64(1), object(4)\n",
      "memory usage: 663.6+ MB\n"
     ]
    }
   ],
   "source": [
    "calendar.info()"
   ]
  },
  {
   "cell_type": "code",
   "execution_count": 4,
   "metadata": {},
   "outputs": [
    {
     "data": {
      "text/html": [
       "<div>\n",
       "<style scoped>\n",
       "    .dataframe tbody tr th:only-of-type {\n",
       "        vertical-align: middle;\n",
       "    }\n",
       "\n",
       "    .dataframe tbody tr th {\n",
       "        vertical-align: top;\n",
       "    }\n",
       "\n",
       "    .dataframe thead th {\n",
       "        text-align: right;\n",
       "    }\n",
       "</style>\n",
       "<table border=\"1\" class=\"dataframe\">\n",
       "  <thead>\n",
       "    <tr style=\"text-align: right;\">\n",
       "      <th></th>\n",
       "      <th>count</th>\n",
       "      <th>mean</th>\n",
       "      <th>std</th>\n",
       "      <th>min</th>\n",
       "      <th>25%</th>\n",
       "      <th>50%</th>\n",
       "      <th>75%</th>\n",
       "      <th>max</th>\n",
       "    </tr>\n",
       "  </thead>\n",
       "  <tbody>\n",
       "    <tr>\n",
       "      <th>listing_id</th>\n",
       "      <td>12426106.0</td>\n",
       "      <td>3.974338e+17</td>\n",
       "      <td>4.321736e+17</td>\n",
       "      <td>5269.0</td>\n",
       "      <td>33479300.0</td>\n",
       "      <td>53419568.0</td>\n",
       "      <td>8.150734e+17</td>\n",
       "      <td>1.117529e+18</td>\n",
       "    </tr>\n",
       "    <tr>\n",
       "      <th>minimum_nights</th>\n",
       "      <td>12426102.0</td>\n",
       "      <td>9.036971e+00</td>\n",
       "      <td>2.676659e+01</td>\n",
       "      <td>1.0</td>\n",
       "      <td>2.0</td>\n",
       "      <td>3.0</td>\n",
       "      <td>5.000000e+00</td>\n",
       "      <td>1.000000e+03</td>\n",
       "    </tr>\n",
       "    <tr>\n",
       "      <th>maximum_nights</th>\n",
       "      <td>12426102.0</td>\n",
       "      <td>1.721589e+06</td>\n",
       "      <td>6.076791e+07</td>\n",
       "      <td>1.0</td>\n",
       "      <td>100.0</td>\n",
       "      <td>365.0</td>\n",
       "      <td>1.125000e+03</td>\n",
       "      <td>2.147484e+09</td>\n",
       "    </tr>\n",
       "  </tbody>\n",
       "</table>\n",
       "</div>"
      ],
      "text/plain": [
       "                     count          mean           std     min         25%  \\\n",
       "listing_id      12426106.0  3.974338e+17  4.321736e+17  5269.0  33479300.0   \n",
       "minimum_nights  12426102.0  9.036971e+00  2.676659e+01     1.0         2.0   \n",
       "maximum_nights  12426102.0  1.721589e+06  6.076791e+07     1.0       100.0   \n",
       "\n",
       "                       50%           75%           max  \n",
       "listing_id      53419568.0  8.150734e+17  1.117529e+18  \n",
       "minimum_nights         3.0  5.000000e+00  1.000000e+03  \n",
       "maximum_nights       365.0  1.125000e+03  2.147484e+09  "
      ]
     },
     "execution_count": 4,
     "metadata": {},
     "output_type": "execute_result"
    }
   ],
   "source": [
    "calendar.describe().T"
   ]
  },
  {
   "cell_type": "markdown",
   "metadata": {},
   "source": [
    "Notas:\n",
    "- Entender qué significa el código de la columna \"listing_id\"\n",
    "- Se podría ver cómo fluctúa el precio en función de la fecha\n",
    "- La fecha se podría cambiar de formato si fuera necesario\n",
    "- Entender qué significa el valor de la columna \"available\"\n",
    "- La columna precio es string, para poder sacar medias y trabajar mejor con ella, habría que quitarle el procentaje y convertirla a números decimales\n",
    "- Ver utilidad de la columna adjusted price y el porcentaje de valores nulos. No olvidar que está expresado como objeto\n",
    "- Se puede mostar mínimo, máximo y media de días de estancia \n",
    "- En la columna de noches máximas, identificar qué signigica que puedas quedarte 1125.0 y si  se trata solo de alquiler vacacional o también hay alquiler de vivienda\n",
    "- Quizás se puede calcular lo que pueden ganar al año alquilando este tipo de alojamientos"
   ]
  },
  {
   "cell_type": "code",
   "execution_count": 5,
   "metadata": {},
   "outputs": [
    {
     "data": {
      "text/plain": [
       "listing_id               0\n",
       "date                     0\n",
       "available                0\n",
       "price                    0\n",
       "adjusted_price    12393621\n",
       "minimum_nights           4\n",
       "maximum_nights           4\n",
       "dtype: int64"
      ]
     },
     "execution_count": 5,
     "metadata": {},
     "output_type": "execute_result"
    }
   ],
   "source": [
    "calendar.isnull().sum()"
   ]
  },
  {
   "cell_type": "code",
   "execution_count": 6,
   "metadata": {},
   "outputs": [
    {
     "data": {
      "text/plain": [
       "12393629"
      ]
     },
     "execution_count": 6,
     "metadata": {},
     "output_type": "execute_result"
    }
   ],
   "source": [
    "calendar.isnull().sum().sum()"
   ]
  },
  {
   "cell_type": "code",
   "execution_count": 7,
   "metadata": {},
   "outputs": [
    {
     "name": "stderr",
     "output_type": "stream",
     "text": [
      "C:\\Users\\mayin\\AppData\\Local\\Temp\\ipykernel_26856\\810469304.py:1: FutureWarning: The default value of regex will change from True to False in a future version. In addition, single character regular expressions will *not* be treated as literal strings when regex=True.\n",
      "  calendar['price'] = calendar['price'].str.replace('$', '').str.replace(',', '').astype(float)\n"
     ]
    },
    {
     "name": "stdout",
     "output_type": "stream",
     "text": [
      "stat=0.237, p=0.000\n",
      "No sigue una distribución Gaussiana\n"
     ]
    },
    {
     "name": "stderr",
     "output_type": "stream",
     "text": [
      "C:\\Users\\mayin\\AppData\\Local\\Temp\\ipykernel_26856\\810469304.py:2: UserWarning: scipy.stats.shapiro: For N > 5000, computed p-value may not be accurate. Current N is 12426106.\n",
      "  stat, p = shapiro(calendar[\"price\"])\n"
     ]
    }
   ],
   "source": [
    "calendar['price'] = calendar['price'].str.replace('$', '').str.replace(',', '').astype(float)\n",
    "stat, p = shapiro(calendar[\"price\"])\n",
    "print('stat=%.3f, p=%.3f' % (stat, p))\n",
    "if p > 0.05:\n",
    "\tprint('No podemos rechazar que siga una distribución Gaussiana')\n",
    "else:\n",
    "\tprint('No sigue una distribución Gaussiana')"
   ]
  },
  {
   "cell_type": "code",
   "execution_count": 8,
   "metadata": {},
   "outputs": [
    {
     "name": "stderr",
     "output_type": "stream",
     "text": [
      "C:\\Users\\mayin\\AppData\\Local\\Temp\\ipykernel_26856\\1078176311.py:2: FutureWarning: The default value of numeric_only in DataFrame.corr is deprecated. In a future version, it will default to False. Select only valid columns or specify the value of numeric_only to silence this warning.\n",
      "  correlation_matrix = calendar.corr().round(2)\n"
     ]
    },
    {
     "data": {
      "image/png": "[encoded data removed]",
      "text/plain": [
       "<Figure size 800x600 with 2 Axes>"
      ]
     },
     "metadata": {},
     "output_type": "display_data"
    }
   ],
   "source": [
    "plt.figure(figsize=(8,6))\n",
    "correlation_matrix = calendar.corr().round(2)\n",
    "mask = correlation_matrix.where(np.tril(np.ones(correlation_matrix.shape), k=-1).astype(bool))\n",
    "heatmap = sns.heatmap(mask, annot=True, cmap=\"coolwarm\")\n",
    "heatmap.set_title(\"Correlación entre las variables numéricas del dataset\")\n",
    "plt.show()"
   ]
  },
  {
   "cell_type": "code",
   "execution_count": 9,
   "metadata": {},
   "outputs": [
    {
     "name": "stdout",
     "output_type": "stream",
     "text": [
      "<class 'pandas.core.frame.DataFrame'>\n",
      "RangeIndex: 12426106 entries, 0 to 12426105\n",
      "Data columns (total 7 columns):\n",
      " #   Column          Dtype  \n",
      "---  ------          -----  \n",
      " 0   listing_id      int64  \n",
      " 1   date            object \n",
      " 2   available       object \n",
      " 3   price           float64\n",
      " 4   adjusted_price  object \n",
      " 5   minimum_nights  float64\n",
      " 6   maximum_nights  float64\n",
      "dtypes: float64(3), int64(1), object(3)\n",
      "memory usage: 663.6+ MB\n"
     ]
    }
   ],
   "source": [
    "calendar.info()"
   ]
  },
  {
   "cell_type": "markdown",
   "metadata": {},
   "source": [
    "## 2. Revisando data del csv \"listings complet\""
   ]
  },
  {
   "cell_type": "code",
   "execution_count": 10,
   "metadata": {},
   "outputs": [],
   "source": [
    "pd.set_option('display.max_columns', None)"
   ]
  },
  {
   "cell_type": "code",
   "execution_count": 11,
   "metadata": {},
   "outputs": [],
   "source": [
    "complete_listing=pd.read_csv(r\"C:\\Users\\mayin\\Desktop\\Proyectos\\Proyecto modulo 2\\Data\\listings complet.csv\")"
   ]
  },
  {
   "cell_type": "code",
   "execution_count": 12,
   "metadata": {},
   "outputs": [
    {
     "data": {
      "text/html": [
       "<div>\n",
       "<style scoped>\n",
       "    .dataframe tbody tr th:only-of-type {\n",
       "        vertical-align: middle;\n",
       "    }\n",
       "\n",
       "    .dataframe tbody tr th {\n",
       "        vertical-align: top;\n",
       "    }\n",
       "\n",
       "    .dataframe thead th {\n",
       "        text-align: right;\n",
       "    }\n",
       "</style>\n",
       "<table border=\"1\" class=\"dataframe\">\n",
       "  <thead>\n",
       "    <tr style=\"text-align: right;\">\n",
       "      <th></th>\n",
       "      <th>id</th>\n",
       "      <th>listing_url</th>\n",
       "      <th>scrape_id</th>\n",
       "      <th>last_scraped</th>\n",
       "      <th>source</th>\n",
       "      <th>name</th>\n",
       "      <th>description</th>\n",
       "      <th>neighborhood_overview</th>\n",
       "      <th>picture_url</th>\n",
       "      <th>host_id</th>\n",
       "      <th>host_url</th>\n",
       "      <th>host_name</th>\n",
       "      <th>host_since</th>\n",
       "      <th>host_location</th>\n",
       "      <th>host_about</th>\n",
       "      <th>host_response_time</th>\n",
       "      <th>host_response_rate</th>\n",
       "      <th>host_acceptance_rate</th>\n",
       "      <th>host_is_superhost</th>\n",
       "      <th>host_thumbnail_url</th>\n",
       "      <th>host_picture_url</th>\n",
       "      <th>host_neighbourhood</th>\n",
       "      <th>host_listings_count</th>\n",
       "      <th>host_total_listings_count</th>\n",
       "      <th>host_verifications</th>\n",
       "      <th>host_has_profile_pic</th>\n",
       "      <th>host_identity_verified</th>\n",
       "      <th>neighbourhood</th>\n",
       "      <th>neighbourhood_cleansed</th>\n",
       "      <th>neighbourhood_group_cleansed</th>\n",
       "      <th>latitude</th>\n",
       "      <th>longitude</th>\n",
       "      <th>property_type</th>\n",
       "      <th>room_type</th>\n",
       "      <th>accommodates</th>\n",
       "      <th>bathrooms</th>\n",
       "      <th>bathrooms_text</th>\n",
       "      <th>bedrooms</th>\n",
       "      <th>beds</th>\n",
       "      <th>amenities</th>\n",
       "      <th>price</th>\n",
       "      <th>minimum_nights</th>\n",
       "      <th>maximum_nights</th>\n",
       "      <th>minimum_minimum_nights</th>\n",
       "      <th>maximum_minimum_nights</th>\n",
       "      <th>minimum_maximum_nights</th>\n",
       "      <th>maximum_maximum_nights</th>\n",
       "      <th>minimum_nights_avg_ntm</th>\n",
       "      <th>maximum_nights_avg_ntm</th>\n",
       "      <th>calendar_updated</th>\n",
       "      <th>has_availability</th>\n",
       "      <th>availability_30</th>\n",
       "      <th>availability_60</th>\n",
       "      <th>availability_90</th>\n",
       "      <th>availability_365</th>\n",
       "      <th>calendar_last_scraped</th>\n",
       "      <th>number_of_reviews</th>\n",
       "      <th>number_of_reviews_ltm</th>\n",
       "      <th>number_of_reviews_l30d</th>\n",
       "      <th>first_review</th>\n",
       "      <th>last_review</th>\n",
       "      <th>review_scores_rating</th>\n",
       "      <th>review_scores_accuracy</th>\n",
       "      <th>review_scores_cleanliness</th>\n",
       "      <th>review_scores_checkin</th>\n",
       "      <th>review_scores_communication</th>\n",
       "      <th>review_scores_location</th>\n",
       "      <th>review_scores_value</th>\n",
       "      <th>license</th>\n",
       "      <th>instant_bookable</th>\n",
       "      <th>calculated_host_listings_count</th>\n",
       "      <th>calculated_host_listings_count_entire_homes</th>\n",
       "      <th>calculated_host_listings_count_private_rooms</th>\n",
       "      <th>calculated_host_listings_count_shared_rooms</th>\n",
       "      <th>reviews_per_month</th>\n",
       "    </tr>\n",
       "  </thead>\n",
       "  <tbody>\n",
       "    <tr>\n",
       "      <th>0</th>\n",
       "      <td>34421962</td>\n",
       "      <td>https://www.airbnb.com/rooms/34421962</td>\n",
       "      <td>20240322023526</td>\n",
       "      <td>2024-03-22</td>\n",
       "      <td>city scrape</td>\n",
       "      <td>Waipouli Beach Resort E106</td>\n",
       "      <td>Beautiful Luxury Inner Courtyard Garden View, ...</td>\n",
       "      <td>NaN</td>\n",
       "      <td>https://a0.muscache.com/pictures/prohost-api/H...</td>\n",
       "      <td>34386367</td>\n",
       "      <td>https://www.airbnb.com/users/show/34386367</td>\n",
       "      <td>Kauai Calls!</td>\n",
       "      <td>2015-05-27</td>\n",
       "      <td>Hawaii, United States</td>\n",
       "      <td>I have always known I would have a home on bea...</td>\n",
       "      <td>within an hour</td>\n",
       "      <td>100%</td>\n",
       "      <td>100%</td>\n",
       "      <td>f</td>\n",
       "      <td>https://a0.muscache.com/im/users/34386367/prof...</td>\n",
       "      <td>https://a0.muscache.com/im/users/34386367/prof...</td>\n",
       "      <td>Kauaʻi</td>\n",
       "      <td>47.0</td>\n",
       "      <td>106.0</td>\n",
       "      <td>['email', 'phone']</td>\n",
       "      <td>t</td>\n",
       "      <td>t</td>\n",
       "      <td>NaN</td>\n",
       "      <td>Kapaa-Wailua</td>\n",
       "      <td>Kauai</td>\n",
       "      <td>22.062280</td>\n",
       "      <td>-159.319180</td>\n",
       "      <td>Entire condo</td>\n",
       "      <td>Entire home/apt</td>\n",
       "      <td>4</td>\n",
       "      <td>2.0</td>\n",
       "      <td>2 baths</td>\n",
       "      <td>1.0</td>\n",
       "      <td>2.0</td>\n",
       "      <td>[\"Air conditioning\", \"Hot tub\", \"Coffee maker\"...</td>\n",
       "      <td>$417.00</td>\n",
       "      <td>1</td>\n",
       "      <td>1125</td>\n",
       "      <td>1.0</td>\n",
       "      <td>7.0</td>\n",
       "      <td>3.0</td>\n",
       "      <td>1125.0</td>\n",
       "      <td>2.4</td>\n",
       "      <td>355.3</td>\n",
       "      <td>NaN</td>\n",
       "      <td>t</td>\n",
       "      <td>9</td>\n",
       "      <td>16</td>\n",
       "      <td>23</td>\n",
       "      <td>243</td>\n",
       "      <td>2024-03-22</td>\n",
       "      <td>0</td>\n",
       "      <td>0</td>\n",
       "      <td>0</td>\n",
       "      <td>NaN</td>\n",
       "      <td>NaN</td>\n",
       "      <td>NaN</td>\n",
       "      <td>NaN</td>\n",
       "      <td>NaN</td>\n",
       "      <td>NaN</td>\n",
       "      <td>NaN</td>\n",
       "      <td>NaN</td>\n",
       "      <td>NaN</td>\n",
       "      <td>430080010111</td>\n",
       "      <td>t</td>\n",
       "      <td>41</td>\n",
       "      <td>41</td>\n",
       "      <td>0</td>\n",
       "      <td>0</td>\n",
       "      <td>NaN</td>\n",
       "    </tr>\n",
       "    <tr>\n",
       "      <th>1</th>\n",
       "      <td>40707945</td>\n",
       "      <td>https://www.airbnb.com/rooms/40707945</td>\n",
       "      <td>20240322023526</td>\n",
       "      <td>2024-03-23</td>\n",
       "      <td>city scrape</td>\n",
       "      <td>DO NOT PUBLISH BEFORE MERGING 14891-HROV</td>\n",
       "      <td>This is the description of this beautiful hote...</td>\n",
       "      <td>NaN</td>\n",
       "      <td>https://a0.muscache.com/pictures/prohost-api/H...</td>\n",
       "      <td>182704096</td>\n",
       "      <td>https://www.airbnb.com/users/show/182704096</td>\n",
       "      <td>Aston Waikiki Beach Hotel</td>\n",
       "      <td>2018-04-05</td>\n",
       "      <td>NaN</td>\n",
       "      <td>NaN</td>\n",
       "      <td>NaN</td>\n",
       "      <td>NaN</td>\n",
       "      <td>NaN</td>\n",
       "      <td>f</td>\n",
       "      <td>https://a0.muscache.com/im/pictures/user/b1c63...</td>\n",
       "      <td>https://a0.muscache.com/im/pictures/user/b1c63...</td>\n",
       "      <td>Waikiki</td>\n",
       "      <td>9.0</td>\n",
       "      <td>20.0</td>\n",
       "      <td>['phone']</td>\n",
       "      <td>t</td>\n",
       "      <td>t</td>\n",
       "      <td>NaN</td>\n",
       "      <td>Primary Urban Center</td>\n",
       "      <td>Honolulu</td>\n",
       "      <td>21.272438</td>\n",
       "      <td>-157.822556</td>\n",
       "      <td>Room in hotel</td>\n",
       "      <td>Private room</td>\n",
       "      <td>1</td>\n",
       "      <td>1.5</td>\n",
       "      <td>1.5 baths</td>\n",
       "      <td>1.0</td>\n",
       "      <td>0.0</td>\n",
       "      <td>[\"Elevator\", \"Baby bath\", \"Baby monitor\", \"Air...</td>\n",
       "      <td>$290.00</td>\n",
       "      <td>1</td>\n",
       "      <td>28</td>\n",
       "      <td>1.0</td>\n",
       "      <td>1.0</td>\n",
       "      <td>731.0</td>\n",
       "      <td>731.0</td>\n",
       "      <td>1.0</td>\n",
       "      <td>731.0</td>\n",
       "      <td>NaN</td>\n",
       "      <td>t</td>\n",
       "      <td>30</td>\n",
       "      <td>60</td>\n",
       "      <td>90</td>\n",
       "      <td>365</td>\n",
       "      <td>2024-03-23</td>\n",
       "      <td>0</td>\n",
       "      <td>0</td>\n",
       "      <td>0</td>\n",
       "      <td>NaN</td>\n",
       "      <td>NaN</td>\n",
       "      <td>NaN</td>\n",
       "      <td>NaN</td>\n",
       "      <td>NaN</td>\n",
       "      <td>NaN</td>\n",
       "      <td>NaN</td>\n",
       "      <td>NaN</td>\n",
       "      <td>NaN</td>\n",
       "      <td>NaN</td>\n",
       "      <td>t</td>\n",
       "      <td>9</td>\n",
       "      <td>0</td>\n",
       "      <td>9</td>\n",
       "      <td>0</td>\n",
       "      <td>NaN</td>\n",
       "    </tr>\n",
       "  </tbody>\n",
       "</table>\n",
       "</div>"
      ],
      "text/plain": [
       "         id                            listing_url       scrape_id  \\\n",
       "0  34421962  https://www.airbnb.com/rooms/34421962  20240322023526   \n",
       "1  40707945  https://www.airbnb.com/rooms/40707945  20240322023526   \n",
       "\n",
       "  last_scraped       source                                      name  \\\n",
       "0   2024-03-22  city scrape                Waipouli Beach Resort E106   \n",
       "1   2024-03-23  city scrape  DO NOT PUBLISH BEFORE MERGING 14891-HROV   \n",
       "\n",
       "                                         description neighborhood_overview  \\\n",
       "0  Beautiful Luxury Inner Courtyard Garden View, ...                   NaN   \n",
       "1  This is the description of this beautiful hote...                   NaN   \n",
       "\n",
       "                                         picture_url    host_id  \\\n",
       "0  https://a0.muscache.com/pictures/prohost-api/H...   34386367   \n",
       "1  https://a0.muscache.com/pictures/prohost-api/H...  182704096   \n",
       "\n",
       "                                      host_url                  host_name  \\\n",
       "0   https://www.airbnb.com/users/show/34386367               Kauai Calls!   \n",
       "1  https://www.airbnb.com/users/show/182704096  Aston Waikiki Beach Hotel   \n",
       "\n",
       "   host_since          host_location  \\\n",
       "0  2015-05-27  Hawaii, United States   \n",
       "1  2018-04-05                    NaN   \n",
       "\n",
       "                                          host_about host_response_time  \\\n",
       "0  I have always known I would have a home on bea...     within an hour   \n",
       "1                                                NaN                NaN   \n",
       "\n",
       "  host_response_rate host_acceptance_rate host_is_superhost  \\\n",
       "0               100%                 100%                 f   \n",
       "1                NaN                  NaN                 f   \n",
       "\n",
       "                                  host_thumbnail_url  \\\n",
       "0  https://a0.muscache.com/im/users/34386367/prof...   \n",
       "1  https://a0.muscache.com/im/pictures/user/b1c63...   \n",
       "\n",
       "                                    host_picture_url host_neighbourhood  \\\n",
       "0  https://a0.muscache.com/im/users/34386367/prof...             Kauaʻi   \n",
       "1  https://a0.muscache.com/im/pictures/user/b1c63...            Waikiki   \n",
       "\n",
       "   host_listings_count  host_total_listings_count  host_verifications  \\\n",
       "0                 47.0                      106.0  ['email', 'phone']   \n",
       "1                  9.0                       20.0           ['phone']   \n",
       "\n",
       "  host_has_profile_pic host_identity_verified neighbourhood  \\\n",
       "0                    t                      t           NaN   \n",
       "1                    t                      t           NaN   \n",
       "\n",
       "  neighbourhood_cleansed neighbourhood_group_cleansed   latitude   longitude  \\\n",
       "0           Kapaa-Wailua                        Kauai  22.062280 -159.319180   \n",
       "1   Primary Urban Center                     Honolulu  21.272438 -157.822556   \n",
       "\n",
       "   property_type        room_type  accommodates  bathrooms bathrooms_text  \\\n",
       "0   Entire condo  Entire home/apt             4        2.0        2 baths   \n",
       "1  Room in hotel     Private room             1        1.5      1.5 baths   \n",
       "\n",
       "   bedrooms  beds                                          amenities    price  \\\n",
       "0       1.0   2.0  [\"Air conditioning\", \"Hot tub\", \"Coffee maker\"...  $417.00   \n",
       "1       1.0   0.0  [\"Elevator\", \"Baby bath\", \"Baby monitor\", \"Air...  $290.00   \n",
       "\n",
       "   minimum_nights  maximum_nights  minimum_minimum_nights  \\\n",
       "0               1            1125                     1.0   \n",
       "1               1              28                     1.0   \n",
       "\n",
       "   maximum_minimum_nights  minimum_maximum_nights  maximum_maximum_nights  \\\n",
       "0                     7.0                     3.0                  1125.0   \n",
       "1                     1.0                   731.0                   731.0   \n",
       "\n",
       "   minimum_nights_avg_ntm  maximum_nights_avg_ntm  calendar_updated  \\\n",
       "0                     2.4                   355.3               NaN   \n",
       "1                     1.0                   731.0               NaN   \n",
       "\n",
       "  has_availability  availability_30  availability_60  availability_90  \\\n",
       "0                t                9               16               23   \n",
       "1                t               30               60               90   \n",
       "\n",
       "   availability_365 calendar_last_scraped  number_of_reviews  \\\n",
       "0               243            2024-03-22                  0   \n",
       "1               365            2024-03-23                  0   \n",
       "\n",
       "   number_of_reviews_ltm  number_of_reviews_l30d first_review last_review  \\\n",
       "0                      0                       0          NaN         NaN   \n",
       "1                      0                       0          NaN         NaN   \n",
       "\n",
       "   review_scores_rating  review_scores_accuracy  review_scores_cleanliness  \\\n",
       "0                   NaN                     NaN                        NaN   \n",
       "1                   NaN                     NaN                        NaN   \n",
       "\n",
       "   review_scores_checkin  review_scores_communication  review_scores_location  \\\n",
       "0                    NaN                          NaN                     NaN   \n",
       "1                    NaN                          NaN                     NaN   \n",
       "\n",
       "   review_scores_value       license instant_bookable  \\\n",
       "0                  NaN  430080010111                t   \n",
       "1                  NaN           NaN                t   \n",
       "\n",
       "   calculated_host_listings_count  \\\n",
       "0                              41   \n",
       "1                               9   \n",
       "\n",
       "   calculated_host_listings_count_entire_homes  \\\n",
       "0                                           41   \n",
       "1                                            0   \n",
       "\n",
       "   calculated_host_listings_count_private_rooms  \\\n",
       "0                                             0   \n",
       "1                                             9   \n",
       "\n",
       "   calculated_host_listings_count_shared_rooms  reviews_per_month  \n",
       "0                                            0                NaN  \n",
       "1                                            0                NaN  "
      ]
     },
     "execution_count": 12,
     "metadata": {},
     "output_type": "execute_result"
    }
   ],
   "source": [
    "complete_listing.drop_duplicates()\n",
    "complete_listing.head(2)"
   ]
  },
  {
   "cell_type": "code",
   "execution_count": 13,
   "metadata": {},
   "outputs": [
    {
     "name": "stdout",
     "output_type": "stream",
     "text": [
      "<class 'pandas.core.frame.DataFrame'>\n",
      "RangeIndex: 34049 entries, 0 to 34048\n",
      "Data columns (total 75 columns):\n",
      " #   Column                                        Non-Null Count  Dtype  \n",
      "---  ------                                        --------------  -----  \n",
      " 0   id                                            34049 non-null  int64  \n",
      " 1   listing_url                                   34049 non-null  object \n",
      " 2   scrape_id                                     34049 non-null  int64  \n",
      " 3   last_scraped                                  34049 non-null  object \n",
      " 4   source                                        34049 non-null  object \n",
      " 5   name                                          34049 non-null  object \n",
      " 6   description                                   32760 non-null  object \n",
      " 7   neighborhood_overview                         18237 non-null  object \n",
      " 8   picture_url                                   34049 non-null  object \n",
      " 9   host_id                                       34049 non-null  int64  \n",
      " 10  host_url                                      34049 non-null  object \n",
      " 11  host_name                                     34047 non-null  object \n",
      " 12  host_since                                    34047 non-null  object \n",
      " 13  host_location                                 25272 non-null  object \n",
      " 14  host_about                                    23424 non-null  object \n",
      " 15  host_response_time                            31680 non-null  object \n",
      " 16  host_response_rate                            31680 non-null  object \n",
      " 17  host_acceptance_rate                          32282 non-null  object \n",
      " 18  host_is_superhost                             34017 non-null  object \n",
      " 19  host_thumbnail_url                            34047 non-null  object \n",
      " 20  host_picture_url                              34047 non-null  object \n",
      " 21  host_neighbourhood                            26909 non-null  object \n",
      " 22  host_listings_count                           34047 non-null  float64\n",
      " 23  host_total_listings_count                     34047 non-null  float64\n",
      " 24  host_verifications                            34049 non-null  object \n",
      " 25  host_has_profile_pic                          34047 non-null  object \n",
      " 26  host_identity_verified                        34047 non-null  object \n",
      " 27  neighbourhood                                 18237 non-null  object \n",
      " 28  neighbourhood_cleansed                        34049 non-null  object \n",
      " 29  neighbourhood_group_cleansed                  34049 non-null  object \n",
      " 30  latitude                                      34049 non-null  float64\n",
      " 31  longitude                                     34049 non-null  float64\n",
      " 32  property_type                                 34049 non-null  object \n",
      " 33  room_type                                     34049 non-null  object \n",
      " 34  accommodates                                  34049 non-null  int64  \n",
      " 35  bathrooms                                     31062 non-null  float64\n",
      " 36  bathrooms_text                                34037 non-null  object \n",
      " 37  bedrooms                                      33624 non-null  float64\n",
      " 38  beds                                          31031 non-null  float64\n",
      " 39  amenities                                     34049 non-null  object \n",
      " 40  price                                         30985 non-null  object \n",
      " 41  minimum_nights                                34049 non-null  int64  \n",
      " 42  maximum_nights                                34049 non-null  int64  \n",
      " 43  minimum_minimum_nights                        34044 non-null  float64\n",
      " 44  maximum_minimum_nights                        34044 non-null  float64\n",
      " 45  minimum_maximum_nights                        34044 non-null  float64\n",
      " 46  maximum_maximum_nights                        34044 non-null  float64\n",
      " 47  minimum_nights_avg_ntm                        34044 non-null  float64\n",
      " 48  maximum_nights_avg_ntm                        34044 non-null  float64\n",
      " 49  calendar_updated                              0 non-null      float64\n",
      " 50  has_availability                              33830 non-null  object \n",
      " 51  availability_30                               34049 non-null  int64  \n",
      " 52  availability_60                               34049 non-null  int64  \n",
      " 53  availability_90                               34049 non-null  int64  \n",
      " 54  availability_365                              34049 non-null  int64  \n",
      " 55  calendar_last_scraped                         34049 non-null  object \n",
      " 56  number_of_reviews                             34049 non-null  int64  \n",
      " 57  number_of_reviews_ltm                         34049 non-null  int64  \n",
      " 58  number_of_reviews_l30d                        34049 non-null  int64  \n",
      " 59  first_review                                  26138 non-null  object \n",
      " 60  last_review                                   26138 non-null  object \n",
      " 61  review_scores_rating                          26138 non-null  float64\n",
      " 62  review_scores_accuracy                        26099 non-null  float64\n",
      " 63  review_scores_cleanliness                     26099 non-null  float64\n",
      " 64  review_scores_checkin                         26096 non-null  float64\n",
      " 65  review_scores_communication                   26099 non-null  float64\n",
      " 66  review_scores_location                        26097 non-null  float64\n",
      " 67  review_scores_value                           26096 non-null  float64\n",
      " 68  license                                       27906 non-null  object \n",
      " 69  instant_bookable                              34049 non-null  object \n",
      " 70  calculated_host_listings_count                34049 non-null  int64  \n",
      " 71  calculated_host_listings_count_entire_homes   34049 non-null  int64  \n",
      " 72  calculated_host_listings_count_private_rooms  34049 non-null  int64  \n",
      " 73  calculated_host_listings_count_shared_rooms   34049 non-null  int64  \n",
      " 74  reviews_per_month                             26138 non-null  float64\n",
      "dtypes: float64(22), int64(17), object(36)\n",
      "memory usage: 19.5+ MB\n"
     ]
    }
   ],
   "source": [
    "complete_listing.info()"
   ]
  },
  {
   "cell_type": "code",
   "execution_count": 14,
   "metadata": {},
   "outputs": [
    {
     "data": {
      "text/plain": [
       "array(['f', 't', nan], dtype=object)"
      ]
     },
     "execution_count": 14,
     "metadata": {},
     "output_type": "execute_result"
    }
   ],
   "source": [
    "complete_listing[\"host_is_superhost\"].unique()"
   ]
  },
  {
   "cell_type": "code",
   "execution_count": 15,
   "metadata": {},
   "outputs": [
    {
     "data": {
      "text/plain": [
       "195307"
      ]
     },
     "execution_count": 15,
     "metadata": {},
     "output_type": "execute_result"
    }
   ],
   "source": [
    "complete_listing.isnull().sum().sum()"
   ]
  },
  {
   "cell_type": "code",
   "execution_count": 16,
   "metadata": {},
   "outputs": [
    {
     "data": {
      "text/plain": [
       "7.65"
      ]
     },
     "execution_count": 16,
     "metadata": {},
     "output_type": "execute_result"
    }
   ],
   "source": [
    "((complete_listing.isnull().sum().sum())*100/(34049*75)).round(2)"
   ]
  },
  {
   "cell_type": "code",
   "execution_count": 17,
   "metadata": {},
   "outputs": [
    {
     "data": {
      "text/plain": [
       "id                                               0.0\n",
       "listing_url                                      0.0\n",
       "scrape_id                                        0.0\n",
       "last_scraped                                     0.0\n",
       "source                                           0.0\n",
       "                                                ... \n",
       "calculated_host_listings_count                   0.0\n",
       "calculated_host_listings_count_entire_homes      0.0\n",
       "calculated_host_listings_count_private_rooms     0.0\n",
       "calculated_host_listings_count_shared_rooms      0.0\n",
       "reviews_per_month                               23.0\n",
       "Length: 75, dtype: float64"
      ]
     },
     "execution_count": 17,
     "metadata": {},
     "output_type": "execute_result"
    }
   ],
   "source": [
    "(complete_listing.isnull().sum()/len(complete_listing)*100).round()"
   ]
  },
  {
   "cell_type": "code",
   "execution_count": 18,
   "metadata": {},
   "outputs": [
    {
     "data": {
      "text/plain": [
       "Index(['id', 'listing_url', 'scrape_id', 'last_scraped', 'source', 'name',\n",
       "       'description', 'neighborhood_overview', 'picture_url', 'host_id',\n",
       "       'host_url', 'host_name', 'host_since', 'host_location', 'host_about',\n",
       "       'host_response_time', 'host_response_rate', 'host_acceptance_rate',\n",
       "       'host_is_superhost', 'host_thumbnail_url', 'host_picture_url',\n",
       "       'host_neighbourhood', 'host_listings_count',\n",
       "       'host_total_listings_count', 'host_verifications',\n",
       "       'host_has_profile_pic', 'host_identity_verified', 'neighbourhood',\n",
       "       'neighbourhood_cleansed', 'neighbourhood_group_cleansed', 'latitude',\n",
       "       'longitude', 'property_type', 'room_type', 'accommodates', 'bathrooms',\n",
       "       'bathrooms_text', 'bedrooms', 'beds', 'amenities', 'price',\n",
       "       'minimum_nights', 'maximum_nights', 'minimum_minimum_nights',\n",
       "       'maximum_minimum_nights', 'minimum_maximum_nights',\n",
       "       'maximum_maximum_nights', 'minimum_nights_avg_ntm',\n",
       "       'maximum_nights_avg_ntm', 'calendar_updated', 'has_availability',\n",
       "       'availability_30', 'availability_60', 'availability_90',\n",
       "       'availability_365', 'calendar_last_scraped', 'number_of_reviews',\n",
       "       'number_of_reviews_ltm', 'number_of_reviews_l30d', 'first_review',\n",
       "       'last_review', 'review_scores_rating', 'review_scores_accuracy',\n",
       "       'review_scores_cleanliness', 'review_scores_checkin',\n",
       "       'review_scores_communication', 'review_scores_location',\n",
       "       'review_scores_value', 'license', 'instant_bookable',\n",
       "       'calculated_host_listings_count',\n",
       "       'calculated_host_listings_count_entire_homes',\n",
       "       'calculated_host_listings_count_private_rooms',\n",
       "       'calculated_host_listings_count_shared_rooms', 'reviews_per_month'],\n",
       "      dtype='object')"
      ]
     },
     "execution_count": 18,
     "metadata": {},
     "output_type": "execute_result"
    }
   ],
   "source": [
    "complete_listing.columns"
   ]
  },
  {
   "cell_type": "markdown",
   "metadata": {},
   "source": [
    "Notas:\n",
    "- Posibles columnas útiles: host name, host since, host location, ¿host is superhost?, host neighbourhood, accommodates (capacidad), \tbathrooms\tbathrooms_text\tbedrooms\tbeds\tamenities\tprice\tminimum_nights\tmaximum_nights has_availability\tavailability_30\tavailability_60\tavailability_90\tavailability_365 number_of_reviews\tnumber_of_reviews_ltm\tnumber_of_reviews_l30d\tfirst_review\tlast_review\treview_scores_rating license\t\n",
    "- Latitud, longitud\n",
    "- room type para saber si es alojamiento entero o habitaciones"
   ]
  },
  {
   "cell_type": "markdown",
   "metadata": {},
   "source": [
    "## 3. Revisando data del csv \"listings\""
   ]
  },
  {
   "cell_type": "code",
   "execution_count": 19,
   "metadata": {},
   "outputs": [],
   "source": [
    "listing=pd.read_csv(r\"C:\\Users\\mayin\\Desktop\\Proyectos\\Proyecto modulo 2\\Data\\listings.csv\")"
   ]
  },
  {
   "cell_type": "code",
   "execution_count": 20,
   "metadata": {},
   "outputs": [
    {
     "data": {
      "text/html": [
       "<div>\n",
       "<style scoped>\n",
       "    .dataframe tbody tr th:only-of-type {\n",
       "        vertical-align: middle;\n",
       "    }\n",
       "\n",
       "    .dataframe tbody tr th {\n",
       "        vertical-align: top;\n",
       "    }\n",
       "\n",
       "    .dataframe thead th {\n",
       "        text-align: right;\n",
       "    }\n",
       "</style>\n",
       "<table border=\"1\" class=\"dataframe\">\n",
       "  <thead>\n",
       "    <tr style=\"text-align: right;\">\n",
       "      <th></th>\n",
       "      <th>id</th>\n",
       "      <th>name</th>\n",
       "      <th>host_id</th>\n",
       "      <th>host_name</th>\n",
       "      <th>neighbourhood_group</th>\n",
       "      <th>neighbourhood</th>\n",
       "      <th>latitude</th>\n",
       "      <th>longitude</th>\n",
       "      <th>room_type</th>\n",
       "      <th>price</th>\n",
       "      <th>minimum_nights</th>\n",
       "      <th>number_of_reviews</th>\n",
       "      <th>last_review</th>\n",
       "      <th>reviews_per_month</th>\n",
       "      <th>calculated_host_listings_count</th>\n",
       "      <th>availability_365</th>\n",
       "      <th>number_of_reviews_ltm</th>\n",
       "      <th>license</th>\n",
       "    </tr>\n",
       "  </thead>\n",
       "  <tbody>\n",
       "    <tr>\n",
       "      <th>0</th>\n",
       "      <td>34421962</td>\n",
       "      <td>Waipouli Beach Resort E106</td>\n",
       "      <td>34386367</td>\n",
       "      <td>Kauai Calls!</td>\n",
       "      <td>Kauai</td>\n",
       "      <td>Kapaa-Wailua</td>\n",
       "      <td>22.062280</td>\n",
       "      <td>-159.319180</td>\n",
       "      <td>Entire home/apt</td>\n",
       "      <td>417.0</td>\n",
       "      <td>1</td>\n",
       "      <td>0</td>\n",
       "      <td>NaN</td>\n",
       "      <td>NaN</td>\n",
       "      <td>41</td>\n",
       "      <td>243</td>\n",
       "      <td>0</td>\n",
       "      <td>430080010111</td>\n",
       "    </tr>\n",
       "    <tr>\n",
       "      <th>1</th>\n",
       "      <td>40707945</td>\n",
       "      <td>DO NOT PUBLISH BEFORE MERGING 14891-HROV</td>\n",
       "      <td>182704096</td>\n",
       "      <td>Aston Waikiki Beach Hotel</td>\n",
       "      <td>Honolulu</td>\n",
       "      <td>Primary Urban Center</td>\n",
       "      <td>21.272438</td>\n",
       "      <td>-157.822556</td>\n",
       "      <td>Private room</td>\n",
       "      <td>290.0</td>\n",
       "      <td>1</td>\n",
       "      <td>0</td>\n",
       "      <td>NaN</td>\n",
       "      <td>NaN</td>\n",
       "      <td>9</td>\n",
       "      <td>365</td>\n",
       "      <td>0</td>\n",
       "      <td>NaN</td>\n",
       "    </tr>\n",
       "    <tr>\n",
       "      <th>2</th>\n",
       "      <td>43656551</td>\n",
       "      <td>Ilikai 1212 Ocean / Lagoon / King Bed, Sofa Bed</td>\n",
       "      <td>347952914</td>\n",
       "      <td>Hawaii Vacation</td>\n",
       "      <td>Honolulu</td>\n",
       "      <td>Primary Urban Center</td>\n",
       "      <td>21.284374</td>\n",
       "      <td>-157.838440</td>\n",
       "      <td>Entire home/apt</td>\n",
       "      <td>199.0</td>\n",
       "      <td>1</td>\n",
       "      <td>52</td>\n",
       "      <td>2024-02-20</td>\n",
       "      <td>1.51</td>\n",
       "      <td>79</td>\n",
       "      <td>145</td>\n",
       "      <td>13</td>\n",
       "      <td>Exempt</td>\n",
       "    </tr>\n",
       "  </tbody>\n",
       "</table>\n",
       "</div>"
      ],
      "text/plain": [
       "         id                                             name    host_id  \\\n",
       "0  34421962                       Waipouli Beach Resort E106   34386367   \n",
       "1  40707945         DO NOT PUBLISH BEFORE MERGING 14891-HROV  182704096   \n",
       "2  43656551  Ilikai 1212 Ocean / Lagoon / King Bed, Sofa Bed  347952914   \n",
       "\n",
       "                   host_name neighbourhood_group         neighbourhood  \\\n",
       "0               Kauai Calls!               Kauai          Kapaa-Wailua   \n",
       "1  Aston Waikiki Beach Hotel            Honolulu  Primary Urban Center   \n",
       "2            Hawaii Vacation            Honolulu  Primary Urban Center   \n",
       "\n",
       "    latitude   longitude        room_type  price  minimum_nights  \\\n",
       "0  22.062280 -159.319180  Entire home/apt  417.0               1   \n",
       "1  21.272438 -157.822556     Private room  290.0               1   \n",
       "2  21.284374 -157.838440  Entire home/apt  199.0               1   \n",
       "\n",
       "   number_of_reviews last_review  reviews_per_month  \\\n",
       "0                  0         NaN                NaN   \n",
       "1                  0         NaN                NaN   \n",
       "2                 52  2024-02-20               1.51   \n",
       "\n",
       "   calculated_host_listings_count  availability_365  number_of_reviews_ltm  \\\n",
       "0                              41               243                      0   \n",
       "1                               9               365                      0   \n",
       "2                              79               145                     13   \n",
       "\n",
       "        license  \n",
       "0  430080010111  \n",
       "1           NaN  \n",
       "2        Exempt  "
      ]
     },
     "execution_count": 20,
     "metadata": {},
     "output_type": "execute_result"
    }
   ],
   "source": [
    "listing.drop_duplicates()\n",
    "listing.head(3)"
   ]
  },
  {
   "cell_type": "code",
   "execution_count": 21,
   "metadata": {},
   "outputs": [
    {
     "name": "stdout",
     "output_type": "stream",
     "text": [
      "<class 'pandas.core.frame.DataFrame'>\n",
      "RangeIndex: 34049 entries, 0 to 34048\n",
      "Data columns (total 18 columns):\n",
      " #   Column                          Non-Null Count  Dtype  \n",
      "---  ------                          --------------  -----  \n",
      " 0   id                              34049 non-null  int64  \n",
      " 1   name                            34049 non-null  object \n",
      " 2   host_id                         34049 non-null  int64  \n",
      " 3   host_name                       34047 non-null  object \n",
      " 4   neighbourhood_group             34049 non-null  object \n",
      " 5   neighbourhood                   34049 non-null  object \n",
      " 6   latitude                        34049 non-null  float64\n",
      " 7   longitude                       34049 non-null  float64\n",
      " 8   room_type                       34049 non-null  object \n",
      " 9   price                           30985 non-null  float64\n",
      " 10  minimum_nights                  34049 non-null  int64  \n",
      " 11  number_of_reviews               34049 non-null  int64  \n",
      " 12  last_review                     26138 non-null  object \n",
      " 13  reviews_per_month               26138 non-null  float64\n",
      " 14  calculated_host_listings_count  34049 non-null  int64  \n",
      " 15  availability_365                34049 non-null  int64  \n",
      " 16  number_of_reviews_ltm           34049 non-null  int64  \n",
      " 17  license                         27906 non-null  object \n",
      "dtypes: float64(4), int64(7), object(7)\n",
      "memory usage: 4.7+ MB\n"
     ]
    }
   ],
   "source": [
    "listing.info()"
   ]
  },
  {
   "cell_type": "code",
   "execution_count": 22,
   "metadata": {},
   "outputs": [
    {
     "data": {
      "text/plain": [
       "id                                 0.0\n",
       "name                               0.0\n",
       "host_id                            0.0\n",
       "host_name                          0.0\n",
       "neighbourhood_group                0.0\n",
       "neighbourhood                      0.0\n",
       "latitude                           0.0\n",
       "longitude                          0.0\n",
       "room_type                          0.0\n",
       "price                              9.0\n",
       "minimum_nights                     0.0\n",
       "number_of_reviews                  0.0\n",
       "last_review                       23.0\n",
       "reviews_per_month                 23.0\n",
       "calculated_host_listings_count     0.0\n",
       "availability_365                   0.0\n",
       "number_of_reviews_ltm              0.0\n",
       "license                           18.0\n",
       "dtype: float64"
      ]
     },
     "execution_count": 22,
     "metadata": {},
     "output_type": "execute_result"
    }
   ],
   "source": [
    "(listing.isnull().sum()/len(listing)*100).round()"
   ]
  },
  {
   "cell_type": "code",
   "execution_count": 23,
   "metadata": {},
   "outputs": [
    {
     "data": {
      "text/plain": [
       "25031"
      ]
     },
     "execution_count": 23,
     "metadata": {},
     "output_type": "execute_result"
    }
   ],
   "source": [
    "listing.isnull().sum().sum()"
   ]
  },
  {
   "cell_type": "code",
   "execution_count": 24,
   "metadata": {},
   "outputs": [
    {
     "data": {
      "text/plain": [
       "3.87"
      ]
     },
     "execution_count": 24,
     "metadata": {},
     "output_type": "execute_result"
    }
   ],
   "source": [
    "((listing.isnull().sum().sum())*100/(34049*19)).round(2)"
   ]
  },
  {
   "cell_type": "markdown",
   "metadata": {},
   "source": [
    "Notas:\n",
    "- Este csv tiene menos información, pero es útil\n",
    "- Tal vez podemos añadir a este alguna de la información del anterior o hacer más pequeño el anterior para facilitar el trabajo\n"
   ]
  },
  {
   "cell_type": "markdown",
   "metadata": {},
   "source": [
    "## 4. Revisando data del csv \"neighbourhoods\""
   ]
  },
  {
   "cell_type": "code",
   "execution_count": 25,
   "metadata": {},
   "outputs": [],
   "source": [
    "neighbourhoods=pd.read_csv(r\"C:\\Users\\mayin\\Desktop\\Proyectos\\Proyecto modulo 2\\Data\\neighbourhoods.csv\")"
   ]
  },
  {
   "cell_type": "code",
   "execution_count": 26,
   "metadata": {},
   "outputs": [
    {
     "data": {
      "text/html": [
       "<div>\n",
       "<style scoped>\n",
       "    .dataframe tbody tr th:only-of-type {\n",
       "        vertical-align: middle;\n",
       "    }\n",
       "\n",
       "    .dataframe tbody tr th {\n",
       "        vertical-align: top;\n",
       "    }\n",
       "\n",
       "    .dataframe thead th {\n",
       "        text-align: right;\n",
       "    }\n",
       "</style>\n",
       "<table border=\"1\" class=\"dataframe\">\n",
       "  <thead>\n",
       "    <tr style=\"text-align: right;\">\n",
       "      <th></th>\n",
       "      <th>neighbourhood_group</th>\n",
       "      <th>neighbourhood</th>\n",
       "    </tr>\n",
       "  </thead>\n",
       "  <tbody>\n",
       "    <tr>\n",
       "      <th>0</th>\n",
       "      <td>Hawaii</td>\n",
       "      <td>Hamakua</td>\n",
       "    </tr>\n",
       "    <tr>\n",
       "      <th>1</th>\n",
       "      <td>Hawaii</td>\n",
       "      <td>Kau</td>\n",
       "    </tr>\n",
       "    <tr>\n",
       "      <th>2</th>\n",
       "      <td>Hawaii</td>\n",
       "      <td>North Hilo</td>\n",
       "    </tr>\n",
       "    <tr>\n",
       "      <th>3</th>\n",
       "      <td>Hawaii</td>\n",
       "      <td>North Kohala</td>\n",
       "    </tr>\n",
       "    <tr>\n",
       "      <th>4</th>\n",
       "      <td>Hawaii</td>\n",
       "      <td>North Kona</td>\n",
       "    </tr>\n",
       "  </tbody>\n",
       "</table>\n",
       "</div>"
      ],
      "text/plain": [
       "  neighbourhood_group neighbourhood\n",
       "0              Hawaii       Hamakua\n",
       "1              Hawaii           Kau\n",
       "2              Hawaii    North Hilo\n",
       "3              Hawaii  North Kohala\n",
       "4              Hawaii    North Kona"
      ]
     },
     "execution_count": 26,
     "metadata": {},
     "output_type": "execute_result"
    }
   ],
   "source": [
    "neighbourhoods.drop_duplicates()\n",
    "neighbourhoods.head()"
   ]
  },
  {
   "cell_type": "code",
   "execution_count": 27,
   "metadata": {},
   "outputs": [
    {
     "name": "stdout",
     "output_type": "stream",
     "text": [
      "<class 'pandas.core.frame.DataFrame'>\n",
      "RangeIndex: 32 entries, 0 to 31\n",
      "Data columns (total 2 columns):\n",
      " #   Column               Non-Null Count  Dtype \n",
      "---  ------               --------------  ----- \n",
      " 0   neighbourhood_group  32 non-null     object\n",
      " 1   neighbourhood        32 non-null     object\n",
      "dtypes: object(2)\n",
      "memory usage: 640.0+ bytes\n"
     ]
    }
   ],
   "source": [
    "neighbourhoods.info()"
   ]
  },
  {
   "cell_type": "code",
   "execution_count": 28,
   "metadata": {},
   "outputs": [
    {
     "data": {
      "text/plain": [
       "0"
      ]
     },
     "execution_count": 28,
     "metadata": {},
     "output_type": "execute_result"
    }
   ],
   "source": [
    "neighbourhoods.isnull().sum().sum()"
   ]
  },
  {
   "cell_type": "markdown",
   "metadata": {},
   "source": [
    "Notas:\n",
    "- A priori es útil, pero no estoy segura de que sirva para mucho (excepto informativo), teniendo info parecida y la posición geográfica en el cvs listing complet"
   ]
  },
  {
   "cell_type": "markdown",
   "metadata": {},
   "source": [
    "## 5. Revisando data del geojson \"neighbourhoods\""
   ]
  },
  {
   "cell_type": "code",
   "execution_count": 29,
   "metadata": {},
   "outputs": [
    {
     "data": {
      "text/html": [
       "<div>\n",
       "<style scoped>\n",
       "    .dataframe tbody tr th:only-of-type {\n",
       "        vertical-align: middle;\n",
       "    }\n",
       "\n",
       "    .dataframe tbody tr th {\n",
       "        vertical-align: top;\n",
       "    }\n",
       "\n",
       "    .dataframe thead th {\n",
       "        text-align: right;\n",
       "    }\n",
       "</style>\n",
       "<table border=\"1\" class=\"dataframe\">\n",
       "  <thead>\n",
       "    <tr style=\"text-align: right;\">\n",
       "      <th></th>\n",
       "      <th>type</th>\n",
       "      <th>features</th>\n",
       "    </tr>\n",
       "  </thead>\n",
       "  <tbody>\n",
       "    <tr>\n",
       "      <th>0</th>\n",
       "      <td>FeatureCollection</td>\n",
       "      <td>{'type': 'Feature', 'geometry': {'type': 'Mult...</td>\n",
       "    </tr>\n",
       "    <tr>\n",
       "      <th>1</th>\n",
       "      <td>FeatureCollection</td>\n",
       "      <td>{'type': 'Feature', 'geometry': {'type': 'Mult...</td>\n",
       "    </tr>\n",
       "    <tr>\n",
       "      <th>2</th>\n",
       "      <td>FeatureCollection</td>\n",
       "      <td>{'type': 'Feature', 'geometry': {'type': 'Mult...</td>\n",
       "    </tr>\n",
       "    <tr>\n",
       "      <th>3</th>\n",
       "      <td>FeatureCollection</td>\n",
       "      <td>{'type': 'Feature', 'geometry': {'type': 'Mult...</td>\n",
       "    </tr>\n",
       "    <tr>\n",
       "      <th>4</th>\n",
       "      <td>FeatureCollection</td>\n",
       "      <td>{'type': 'Feature', 'geometry': {'type': 'Mult...</td>\n",
       "    </tr>\n",
       "  </tbody>\n",
       "</table>\n",
       "</div>"
      ],
      "text/plain": [
       "                type                                           features\n",
       "0  FeatureCollection  {'type': 'Feature', 'geometry': {'type': 'Mult...\n",
       "1  FeatureCollection  {'type': 'Feature', 'geometry': {'type': 'Mult...\n",
       "2  FeatureCollection  {'type': 'Feature', 'geometry': {'type': 'Mult...\n",
       "3  FeatureCollection  {'type': 'Feature', 'geometry': {'type': 'Mult...\n",
       "4  FeatureCollection  {'type': 'Feature', 'geometry': {'type': 'Mult..."
      ]
     },
     "execution_count": 29,
     "metadata": {},
     "output_type": "execute_result"
    }
   ],
   "source": [
    "neighbourhoodsjson=pd.read_json(r\"C:\\Users\\mayin\\Desktop\\Proyectos\\Proyecto modulo 2\\Data\\neighbourhoods.geojson\")\n",
    "neighbourhoodsjson.head()"
   ]
  },
  {
   "cell_type": "code",
   "execution_count": 30,
   "metadata": {},
   "outputs": [
    {
     "name": "stdout",
     "output_type": "stream",
     "text": [
      "<class 'pandas.core.frame.DataFrame'>\n",
      "RangeIndex: 34 entries, 0 to 33\n",
      "Data columns (total 2 columns):\n",
      " #   Column    Non-Null Count  Dtype \n",
      "---  ------    --------------  ----- \n",
      " 0   type      34 non-null     object\n",
      " 1   features  34 non-null     object\n",
      "dtypes: object(2)\n",
      "memory usage: 672.0+ bytes\n"
     ]
    }
   ],
   "source": [
    "neighbourhoodsjson.info()"
   ]
  },
  {
   "attachments": {
    "image.png": {
     "image/png": "[encoded data removed]"
    }
   },
   "cell_type": "markdown",
   "metadata": {},
   "source": [
    "Nota:\n",
    "- Este archivo contiene datos geográficos de los alojamientos (latitud y lingitud) ya contenidos en el archivo listings complet. \n",
    "- La consulta en JSON Formatter & Validator arroja esta info:   \n",
    "![image.png](attachment:image.png)  \n",
    "\n",
    "- Además de longitud y latitud, el archivo contiene el nombre del \"neighbourhood\" y del \"neighbourhood_group\". Esta información están tanto en el csv de neighbourhoods como en el de listings. "
   ]
  },
  {
   "cell_type": "markdown",
   "metadata": {},
   "source": [
    "## 6. Revisando data del csv \"reviews_complet\""
   ]
  },
  {
   "cell_type": "code",
   "execution_count": 31,
   "metadata": {},
   "outputs": [],
   "source": [
    "complete_reviews=pd.read_csv(r\"C:\\Users\\mayin\\Desktop\\Proyectos\\Proyecto modulo 2\\Data\\reviews_complet.csv\")"
   ]
  },
  {
   "cell_type": "code",
   "execution_count": 32,
   "metadata": {},
   "outputs": [
    {
     "data": {
      "text/html": [
       "<div>\n",
       "<style scoped>\n",
       "    .dataframe tbody tr th:only-of-type {\n",
       "        vertical-align: middle;\n",
       "    }\n",
       "\n",
       "    .dataframe tbody tr th {\n",
       "        vertical-align: top;\n",
       "    }\n",
       "\n",
       "    .dataframe thead th {\n",
       "        text-align: right;\n",
       "    }\n",
       "</style>\n",
       "<table border=\"1\" class=\"dataframe\">\n",
       "  <thead>\n",
       "    <tr style=\"text-align: right;\">\n",
       "      <th></th>\n",
       "      <th>listing_id</th>\n",
       "      <th>id</th>\n",
       "      <th>date</th>\n",
       "      <th>reviewer_id</th>\n",
       "      <th>reviewer_name</th>\n",
       "      <th>comments</th>\n",
       "    </tr>\n",
       "  </thead>\n",
       "  <tbody>\n",
       "    <tr>\n",
       "      <th>0</th>\n",
       "      <td>5269</td>\n",
       "      <td>289800</td>\n",
       "      <td>2011-05-31</td>\n",
       "      <td>452192</td>\n",
       "      <td>Gert</td>\n",
       "      <td>Very warm welcome. Great place to stay.  Highl...</td>\n",
       "    </tr>\n",
       "    <tr>\n",
       "      <th>1</th>\n",
       "      <td>5269</td>\n",
       "      <td>742885</td>\n",
       "      <td>2011-11-25</td>\n",
       "      <td>1135109</td>\n",
       "      <td>Lene</td>\n",
       "      <td>Barrie was very kind and sweet but it could no...</td>\n",
       "    </tr>\n",
       "    <tr>\n",
       "      <th>2</th>\n",
       "      <td>5269</td>\n",
       "      <td>494178707</td>\n",
       "      <td>2019-07-23</td>\n",
       "      <td>131185347</td>\n",
       "      <td>Kathleen</td>\n",
       "      <td>Great place, location &amp; wonderful hostess. Tha...</td>\n",
       "    </tr>\n",
       "    <tr>\n",
       "      <th>3</th>\n",
       "      <td>5269</td>\n",
       "      <td>523932651</td>\n",
       "      <td>2019-09-04</td>\n",
       "      <td>5708075</td>\n",
       "      <td>Martha</td>\n",
       "      <td>This is such a charming and cozy place to stay...</td>\n",
       "    </tr>\n",
       "    <tr>\n",
       "      <th>4</th>\n",
       "      <td>5269</td>\n",
       "      <td>536049410</td>\n",
       "      <td>2019-09-25</td>\n",
       "      <td>85727419</td>\n",
       "      <td>Brent</td>\n",
       "      <td>Cute little place with easy access to Waimea a...</td>\n",
       "    </tr>\n",
       "  </tbody>\n",
       "</table>\n",
       "</div>"
      ],
      "text/plain": [
       "   listing_id         id        date  reviewer_id reviewer_name  \\\n",
       "0        5269     289800  2011-05-31       452192          Gert   \n",
       "1        5269     742885  2011-11-25      1135109          Lene   \n",
       "2        5269  494178707  2019-07-23    131185347      Kathleen   \n",
       "3        5269  523932651  2019-09-04      5708075        Martha   \n",
       "4        5269  536049410  2019-09-25     85727419         Brent   \n",
       "\n",
       "                                            comments  \n",
       "0  Very warm welcome. Great place to stay.  Highl...  \n",
       "1  Barrie was very kind and sweet but it could no...  \n",
       "2  Great place, location & wonderful hostess. Tha...  \n",
       "3  This is such a charming and cozy place to stay...  \n",
       "4  Cute little place with easy access to Waimea a...  "
      ]
     },
     "execution_count": 32,
     "metadata": {},
     "output_type": "execute_result"
    }
   ],
   "source": [
    "complete_reviews.drop_duplicates()\n",
    "complete_reviews.head()"
   ]
  },
  {
   "cell_type": "code",
   "execution_count": 33,
   "metadata": {},
   "outputs": [
    {
     "name": "stdout",
     "output_type": "stream",
     "text": [
      "<class 'pandas.core.frame.DataFrame'>\n",
      "RangeIndex: 1195681 entries, 0 to 1195680\n",
      "Data columns (total 6 columns):\n",
      " #   Column         Non-Null Count    Dtype \n",
      "---  ------         --------------    ----- \n",
      " 0   listing_id     1195681 non-null  int64 \n",
      " 1   id             1195681 non-null  int64 \n",
      " 2   date           1195681 non-null  object\n",
      " 3   reviewer_id    1195681 non-null  int64 \n",
      " 4   reviewer_name  1195681 non-null  object\n",
      " 5   comments       1195471 non-null  object\n",
      "dtypes: int64(3), object(3)\n",
      "memory usage: 54.7+ MB\n"
     ]
    }
   ],
   "source": [
    "complete_reviews.info()"
   ]
  },
  {
   "cell_type": "code",
   "execution_count": 34,
   "metadata": {},
   "outputs": [
    {
     "data": {
      "text/plain": [
       "listing_id         0\n",
       "id                 0\n",
       "date               0\n",
       "reviewer_id        0\n",
       "reviewer_name      0\n",
       "comments         210\n",
       "dtype: int64"
      ]
     },
     "execution_count": 34,
     "metadata": {},
     "output_type": "execute_result"
    }
   ],
   "source": [
    "complete_reviews.isnull().sum()"
   ]
  },
  {
   "cell_type": "code",
   "execution_count": 35,
   "metadata": {},
   "outputs": [
    {
     "data": {
      "text/plain": [
       "210"
      ]
     },
     "execution_count": 35,
     "metadata": {},
     "output_type": "execute_result"
    }
   ],
   "source": [
    "complete_reviews.isnull().sum().sum()"
   ]
  },
  {
   "cell_type": "code",
   "execution_count": 36,
   "metadata": {},
   "outputs": [
    {
     "data": {
      "text/plain": [
       "listing_id       0.000\n",
       "id               0.000\n",
       "date             0.000\n",
       "reviewer_id      0.000\n",
       "reviewer_name    0.000\n",
       "comments         0.018\n",
       "dtype: float64"
      ]
     },
     "execution_count": 36,
     "metadata": {},
     "output_type": "execute_result"
    }
   ],
   "source": [
    "(complete_reviews.isnull().sum()/len(complete_reviews)*100).round(3)"
   ]
  },
  {
   "cell_type": "markdown",
   "metadata": {},
   "source": [
    "Nota:\n",
    "- No hay scores, solo si exite una review para un alojamiento, la fehca en que se hizo, quién lo rellenó y, en la mayoría de los casos, el comentario"
   ]
  },
  {
   "cell_type": "markdown",
   "metadata": {},
   "source": [
    "## 7. Revisando data del csv \"reviews\""
   ]
  },
  {
   "cell_type": "code",
   "execution_count": 37,
   "metadata": {},
   "outputs": [],
   "source": [
    "reviews=pd.read_csv(r\"C:\\Users\\mayin\\Desktop\\Proyectos\\Proyecto modulo 2\\Data\\reviews.csv\")"
   ]
  },
  {
   "cell_type": "code",
   "execution_count": 38,
   "metadata": {},
   "outputs": [
    {
     "data": {
      "text/html": [
       "<div>\n",
       "<style scoped>\n",
       "    .dataframe tbody tr th:only-of-type {\n",
       "        vertical-align: middle;\n",
       "    }\n",
       "\n",
       "    .dataframe tbody tr th {\n",
       "        vertical-align: top;\n",
       "    }\n",
       "\n",
       "    .dataframe thead th {\n",
       "        text-align: right;\n",
       "    }\n",
       "</style>\n",
       "<table border=\"1\" class=\"dataframe\">\n",
       "  <thead>\n",
       "    <tr style=\"text-align: right;\">\n",
       "      <th></th>\n",
       "      <th>listing_id</th>\n",
       "      <th>date</th>\n",
       "    </tr>\n",
       "  </thead>\n",
       "  <tbody>\n",
       "    <tr>\n",
       "      <th>0</th>\n",
       "      <td>5269</td>\n",
       "      <td>2011-05-31</td>\n",
       "    </tr>\n",
       "    <tr>\n",
       "      <th>1</th>\n",
       "      <td>5269</td>\n",
       "      <td>2011-11-25</td>\n",
       "    </tr>\n",
       "    <tr>\n",
       "      <th>2</th>\n",
       "      <td>5269</td>\n",
       "      <td>2019-07-23</td>\n",
       "    </tr>\n",
       "    <tr>\n",
       "      <th>3</th>\n",
       "      <td>5269</td>\n",
       "      <td>2019-09-04</td>\n",
       "    </tr>\n",
       "    <tr>\n",
       "      <th>4</th>\n",
       "      <td>5269</td>\n",
       "      <td>2019-09-25</td>\n",
       "    </tr>\n",
       "  </tbody>\n",
       "</table>\n",
       "</div>"
      ],
      "text/plain": [
       "   listing_id        date\n",
       "0        5269  2011-05-31\n",
       "1        5269  2011-11-25\n",
       "2        5269  2019-07-23\n",
       "3        5269  2019-09-04\n",
       "4        5269  2019-09-25"
      ]
     },
     "execution_count": 38,
     "metadata": {},
     "output_type": "execute_result"
    }
   ],
   "source": [
    "reviews.drop_duplicates()\n",
    "reviews.head()"
   ]
  },
  {
   "cell_type": "code",
   "execution_count": 39,
   "metadata": {},
   "outputs": [
    {
     "name": "stdout",
     "output_type": "stream",
     "text": [
      "<class 'pandas.core.frame.DataFrame'>\n",
      "RangeIndex: 1195681 entries, 0 to 1195680\n",
      "Data columns (total 2 columns):\n",
      " #   Column      Non-Null Count    Dtype \n",
      "---  ------      --------------    ----- \n",
      " 0   listing_id  1195681 non-null  int64 \n",
      " 1   date        1195681 non-null  object\n",
      "dtypes: int64(1), object(1)\n",
      "memory usage: 18.2+ MB\n"
     ]
    }
   ],
   "source": [
    "reviews.info()"
   ]
  },
  {
   "cell_type": "code",
   "execution_count": 40,
   "metadata": {},
   "outputs": [
    {
     "data": {
      "text/plain": [
       "listing_id    0\n",
       "date          0\n",
       "dtype: int64"
      ]
     },
     "execution_count": 40,
     "metadata": {},
     "output_type": "execute_result"
    }
   ],
   "source": [
    "reviews.isnull().sum()"
   ]
  },
  {
   "cell_type": "markdown",
   "metadata": {},
   "source": [
    "Nota: \n",
    "- La información de este csv ya está contenida en el anterior"
   ]
  },
  {
   "cell_type": "markdown",
   "metadata": {},
   "source": [
    "# Conclusiones"
   ]
  },
  {
   "cell_type": "markdown",
   "metadata": {},
   "source": [
    "- El archivo complete_listing es el que tiene prácticamente toda la información, pero en algunos casos, las columnas están incompletas.\n",
    "- Algunas de las columnas se puede rellenar usando el contenido de otros archivos.\n",
    "- Trabajaré con complete_listings como base y a partir de ahí eliminaré, repararé, rellenaré y haré los cálculos necesarios."
   ]
  }
 ],
 "metadata": {
  "kernelspec": {
   "display_name": "Python 3",
   "language": "python",
   "name": "python3"
  },
  "language_info": {
   "codemirror_mode": {
    "name": "ipython",
    "version": 3
   },
   "file_extension": ".py",
   "mimetype": "text/x-python",
   "name": "python",
   "nbconvert_exporter": "python",
   "pygments_lexer": "ipython3",
   "version": "3.10.10"
  }
 },
 "nbformat": 4,
 "nbformat_minor": 2
}
